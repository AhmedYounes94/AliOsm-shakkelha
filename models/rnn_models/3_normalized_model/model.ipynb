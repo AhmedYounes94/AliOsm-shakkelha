{
 "cells": [
  {
   "cell_type": "markdown",
   "metadata": {
    "colab_type": "text",
    "id": "k5fQa2_ZvcUW"
   },
   "source": [
    "# 1 - Packages"
   ]
  },
  {
   "cell_type": "code",
   "execution_count": null,
   "metadata": {
    "colab": {},
    "colab_type": "code",
    "id": "sWtEozgzvcUc"
   },
   "outputs": [],
   "source": [
    "import time\n",
    "import random\n",
    "import numpy as np\n",
    "import pickle as pkl\n",
    "import tensorflow as tf\n",
    "\n",
    "from keras.models import Model, Input\n",
    "from keras.layers import Embedding, Dense, Dropout, LSTM, CuDNNLSTM, Bidirectional, TimeDistributed\n",
    "from keras.optimizers import Adam\n",
    "from keras.utils import Sequence\n",
    "from keras.initializers import glorot_normal\n",
    "from keras.callbacks import ModelCheckpoint"
   ]
  },
  {
   "cell_type": "code",
   "execution_count": null,
   "metadata": {},
   "outputs": [],
   "source": [
    "import sys\n",
    "sys.path.insert(0, '../../../helpers')\n",
    "from optimizer import NormalizedOptimizer"
   ]
  },
  {
   "cell_type": "markdown",
   "metadata": {
    "colab_type": "text",
    "id": "bv82XUZBvcUp"
   },
   "source": [
    "# 2 - Constants"
   ]
  },
  {
   "cell_type": "code",
   "execution_count": null,
   "metadata": {
    "colab": {},
    "colab_type": "code",
    "id": "MeZD5sgEvcUs"
   },
   "outputs": [],
   "source": [
    "WITH_EXTRA_TRAIN = False\n",
    "DATASET_PATH = '../../../dataset'\n",
    "CONSTANTS_PATH = '../../../helpers/constants'\n",
    "\n",
    "with open(CONSTANTS_PATH + '/ARABIC_LETTERS_LIST.pickle', 'rb') as file:\n",
    "    ARABIC_LETTERS_LIST = pkl.load(file)\n",
    "with open(CONSTANTS_PATH + '/DIACRITICS_LIST.pickle', 'rb') as file:\n",
    "    DIACRITICS_LIST = pkl.load(file)\n",
    "if not WITH_EXTRA_TRAIN:\n",
    "    with open(CONSTANTS_PATH + '/RNN_SMALL_CHARACTERS_MAPPING.pickle', 'rb') as file:\n",
    "        CHARACTERS_MAPPING = pkl.load(file)\n",
    "else:\n",
    "    with open(CONSTANTS_PATH + '/RNN_BIG_CHARACTERS_MAPPING.pickle', 'rb') as file:\n",
    "        CHARACTERS_MAPPING = pkl.load(file)\n",
    "with open(CONSTANTS_PATH + '/RNN_CLASSES_MAPPING.pickle', 'rb') as file:\n",
    "    CLASSES_MAPPING = pkl.load(file)\n",
    "with open(CONSTANTS_PATH + '/RNN_REV_CLASSES_MAPPING.pickle', 'rb') as file:\n",
    "    REV_CLASSES_MAPPING = pkl.load(file)"
   ]
  },
  {
   "cell_type": "markdown",
   "metadata": {
    "colab_type": "text",
    "id": "t7bUFCjzvcUz"
   },
   "source": [
    "# 3 - Load Data"
   ]
  },
  {
   "cell_type": "code",
   "execution_count": null,
   "metadata": {
    "colab": {},
    "colab_type": "code",
    "id": "vBOXJI-EvcU1"
   },
   "outputs": [],
   "source": [
    "train_raw = None\n",
    "with open(DATASET_PATH + '/train.txt', 'r') as file:\n",
    "    train_raw = file.readlines()\n",
    "if WITH_EXTRA_TRAIN:\n",
    "    with open(DATASET_PATH + '/extra_train.txt', 'r') as file:\n",
    "        train_raw += file.readlines()\n",
    "print('Training examples (raw):', len(train_raw))\n",
    "\n",
    "val_raw = None\n",
    "with open(DATASET_PATH + '/val.txt', 'r') as file:\n",
    "    val_raw = file.readlines()\n",
    "print('Validation examples (raw):', len(val_raw))"
   ]
  },
  {
   "cell_type": "markdown",
   "metadata": {
    "colab_type": "text",
    "id": "I1_8v7CQFwi7"
   },
   "source": [
    "# 4 - Helpers"
   ]
  },
  {
   "cell_type": "code",
   "execution_count": null,
   "metadata": {
    "colab": {},
    "colab_type": "code",
    "id": "HyRf8eaKvcU_"
   },
   "outputs": [],
   "source": [
    "def remove_diacritics(data_raw):\n",
    "    return data_raw.translate(str.maketrans('', '', ''.join(DIACRITICS_LIST)))"
   ]
  },
  {
   "cell_type": "code",
   "execution_count": null,
   "metadata": {
    "colab": {},
    "colab_type": "code",
    "id": "z8AjA29fvcVL"
   },
   "outputs": [],
   "source": [
    "def to_one_hot(data, size):\n",
    "    one_hot = list()\n",
    "    for elem in data:\n",
    "        cur = [0] * size\n",
    "        cur[elem] = 1\n",
    "        one_hot.append(cur)\n",
    "    return one_hot"
   ]
  },
  {
   "cell_type": "markdown",
   "metadata": {
    "colab_type": "text",
    "id": "7HJ4qihwvcU9"
   },
   "source": [
    "# 6 - Prepare Data"
   ]
  },
  {
   "cell_type": "code",
   "execution_count": null,
   "metadata": {
    "colab": {},
    "colab_type": "code",
    "id": "54pOjNwtvcVi"
   },
   "outputs": [],
   "source": [
    "def split_data(data_raw):\n",
    "    data_new = list()\n",
    "    \n",
    "    for line in data_raw:\n",
    "        line = line.replace('.', '.\\n')\n",
    "        line = line.replace(',', ',\\n')\n",
    "        line = line.replace('،', '،\\n')\n",
    "        line = line.replace(':', ':\\n')\n",
    "        line = line.replace(';', ';\\n')\n",
    "        line = line.replace('؛', '؛\\n')\n",
    "        line = line.replace('(', '\\n(')\n",
    "        line = line.replace(')', ')\\n')\n",
    "        line = line.replace('[', '\\n[')\n",
    "        line = line.replace(']', ']\\n')\n",
    "        line = line.replace('{', '\\n{')\n",
    "        line = line.replace('}', '}\\n')\n",
    "        line = line.replace('«', '\\n«')\n",
    "        line = line.replace('»', '»\\n')\n",
    "        \n",
    "        for sub_line in line.split('\\n'):\n",
    "            if len(remove_diacritics(sub_line).strip()) == 0:\n",
    "                continue\n",
    "            \n",
    "            if len(remove_diacritics(sub_line).strip()) > 0 and len(remove_diacritics(sub_line).strip()) <= 500:\n",
    "                data_new.append(sub_line.strip())\n",
    "            else:\n",
    "                sub_line = sub_line.split()\n",
    "                tmp_line = ''\n",
    "                for word in sub_line:\n",
    "                    if len(remove_diacritics(tmp_line).strip()) + len(remove_diacritics(word).strip()) + 1 > 500:\n",
    "                        if len(remove_diacritics(tmp_line).strip()) > 0:\n",
    "                            data_new.append(tmp_line.strip())\n",
    "                        tmp_line = word\n",
    "                    else:\n",
    "                        if tmp_line == '':\n",
    "                            tmp_line = word\n",
    "                        else:\n",
    "                            tmp_line += ' '\n",
    "                            tmp_line += word\n",
    "                if len(remove_diacritics(tmp_line).strip()) > 0:\n",
    "                    data_new.append(tmp_line.strip())\n",
    "\n",
    "    return data_new"
   ]
  },
  {
   "cell_type": "code",
   "execution_count": null,
   "metadata": {
    "colab": {},
    "colab_type": "code",
    "id": "p6tIgNkMvcVy"
   },
   "outputs": [],
   "source": [
    "train_split = split_data(train_raw)\n",
    "val_split = split_data(val_raw)"
   ]
  },
  {
   "cell_type": "code",
   "execution_count": null,
   "metadata": {
    "colab": {},
    "colab_type": "code",
    "id": "pKBLfJvevcV8"
   },
   "outputs": [],
   "source": [
    "print('Training examples (split):', len(train_split))\n",
    "print('Validation examples (split):', len(val_split))"
   ]
  },
  {
   "cell_type": "code",
   "execution_count": null,
   "metadata": {
    "colab": {},
    "colab_type": "code",
    "id": "44Zf0Dy5vcVn"
   },
   "outputs": [],
   "source": [
    "def map_data(data_raw):\n",
    "    X = list()\n",
    "    Y = list()\n",
    "    \n",
    "    for line in data_raw:        \n",
    "        x = [CHARACTERS_MAPPING['<SOS>']]\n",
    "        y = [CLASSES_MAPPING['<SOS>']]\n",
    "        \n",
    "        for idx, char in enumerate(line):\n",
    "            if char in DIACRITICS_LIST:\n",
    "                continue\n",
    "            \n",
    "            x.append(CHARACTERS_MAPPING[char])\n",
    "            \n",
    "            if char not in ARABIC_LETTERS_LIST:\n",
    "                y.append(CLASSES_MAPPING[''])\n",
    "            else:\n",
    "                char_diac = ''\n",
    "                if idx + 1 < len(line) and line[idx + 1] in DIACRITICS_LIST:\n",
    "                    char_diac = line[idx + 1]\n",
    "                    if idx + 2 < len(line) and line[idx + 2] in DIACRITICS_LIST and char_diac + line[idx + 2] in CLASSES_MAPPING:\n",
    "                        char_diac += line[idx + 2]\n",
    "                    elif idx + 2 < len(line) and line[idx + 2] in DIACRITICS_LIST and line[idx + 2] + char_diac in CLASSES_MAPPING:\n",
    "                        char_diac = line[idx + 2] + char_diac\n",
    "                y.append(CLASSES_MAPPING[char_diac])\n",
    "        \n",
    "        assert(len(x) == len(y))\n",
    "        \n",
    "        x.append(CHARACTERS_MAPPING['<EOS>'])\n",
    "        y.append(CLASSES_MAPPING['<EOS>'])\n",
    "        \n",
    "        y = to_one_hot(y, len(CLASSES_MAPPING))\n",
    "        \n",
    "        X.append(x)\n",
    "        Y.append(y)\n",
    "    \n",
    "    X = np.asarray(X)\n",
    "    Y = np.asarray(Y)\n",
    "    \n",
    "    return X, Y"
   ]
  },
  {
   "cell_type": "markdown",
   "metadata": {
    "colab_type": "text",
    "id": "zo2-V244vcWC"
   },
   "source": [
    "# 7 - Model Structure"
   ]
  },
  {
   "cell_type": "code",
   "execution_count": null,
   "metadata": {
    "colab": {},
    "colab_type": "code",
    "id": "LbDRPPUqvcWE",
    "scrolled": true
   },
   "outputs": [],
   "source": [
    "def create_model():\n",
    "    if tf.test.is_gpu_available():\n",
    "        SelectedLSTM = CuDNNLSTM\n",
    "    else:\n",
    "        SelectedLSTM = LSTM\n",
    "    \n",
    "    inputs = Input(shape=(None,))\n",
    "    \n",
    "    embeddings = Embedding(input_dim=len(CHARACTERS_MAPPING),\n",
    "                           output_dim=25,\n",
    "                           embeddings_initializer=glorot_normal(seed=961))(inputs)\n",
    "    \n",
    "    blstm1 = Bidirectional(SelectedLSTM(units=256,\n",
    "                                     return_sequences=True,\n",
    "                                     kernel_initializer=glorot_normal(seed=961)))(embeddings)\n",
    "    dropout1 = Dropout(0.5)(blstm1)\n",
    "    blstm2 = Bidirectional(SelectedLSTM(units=256,\n",
    "                                     return_sequences=True,\n",
    "                                     kernel_initializer=glorot_normal(seed=961)))(dropout1)\n",
    "    dropout2 = Dropout(0.5)(blstm2)\n",
    "    \n",
    "    dense1 = TimeDistributed(Dense(units=512,\n",
    "                                   activation='relu',\n",
    "                                   kernel_initializer=glorot_normal(seed=961)))(dropout2)\n",
    "    dense2 = TimeDistributed(Dense(units=512,\n",
    "                                   activation='relu',\n",
    "                                   kernel_initializer=glorot_normal(seed=961)))(dense1)\n",
    "    \n",
    "    output = TimeDistributed(Dense(units=len(CLASSES_MAPPING),\n",
    "                                   activation='softmax',\n",
    "                                   kernel_initializer=glorot_normal(seed=961)))(dense2)\n",
    "    \n",
    "    model = Model(inputs, output)\n",
    "    \n",
    "    model.compile(loss='categorical_crossentropy', optimizer=NormalizedOptimizer(Adam()))\n",
    "    \n",
    "    return model"
   ]
  },
  {
   "cell_type": "code",
   "execution_count": null,
   "metadata": {
    "colab": {},
    "colab_type": "code",
    "id": "3M12GRccvcWN",
    "scrolled": false
   },
   "outputs": [],
   "source": [
    "model = create_model()\n",
    "model.summary()"
   ]
  },
  {
   "cell_type": "markdown",
   "metadata": {
    "colab_type": "text",
    "id": "TgXwLe2tvcWV"
   },
   "source": [
    "# 8 - Training"
   ]
  },
  {
   "cell_type": "code",
   "execution_count": null,
   "metadata": {
    "colab": {},
    "colab_type": "code",
    "id": "Bp6mDvghvcWW"
   },
   "outputs": [],
   "source": [
    "class DataGenerator(Sequence):\n",
    "    def __init__(self, lines, batch_size):\n",
    "        self.lines = lines\n",
    "        self.batch_size = batch_size\n",
    "\n",
    "    def __len__(self):\n",
    "        return int(np.ceil(len(self.lines) / float(self.batch_size)))\n",
    "\n",
    "    def __getitem__(self, idx):\n",
    "        lines = self.lines[idx * self.batch_size:(idx + 1) * self.batch_size]\n",
    "        X_batch, Y_batch = map_data(lines)\n",
    "        \n",
    "        X_max_seq_len = np.max([len(x) for x in X_batch])\n",
    "        Y_max_seq_len = np.max([len(y) for y in Y_batch])\n",
    "        \n",
    "        assert(X_max_seq_len == Y_max_seq_len)\n",
    "        \n",
    "        X = list()\n",
    "        for x in X_batch:\n",
    "            x = list(x)\n",
    "            x.extend([CHARACTERS_MAPPING['<PAD>']] * (X_max_seq_len - len(x)))\n",
    "            X.append(np.asarray(x))\n",
    "        \n",
    "        Y_tmp = list()\n",
    "        for y in Y_batch:\n",
    "            y_new = list(y)\n",
    "            y_new.extend(to_one_hot([CLASSES_MAPPING['<PAD>']] * (Y_max_seq_len - len(y)), len(CLASSES_MAPPING)))\n",
    "            Y_tmp.append(np.asarray(y_new))\n",
    "        Y_batch = Y_tmp\n",
    "        \n",
    "        Y_batch = np.asarray(Y_batch)\n",
    "        \n",
    "        return np.asarray(X), Y_batch"
   ]
  },
  {
   "cell_type": "code",
   "execution_count": null,
   "metadata": {
    "colab": {},
    "colab_type": "code",
    "id": "S7wms8ngvcWk",
    "scrolled": false
   },
   "outputs": [],
   "source": [
    "def fit_model(model, epochs, batch_size, train_split, val_split):\n",
    "    random.shuffle(train_split)\n",
    "    train_split = list(sorted(train_split, key=lambda line: len(remove_diacritics(line))))\n",
    "    random.shuffle(val_split)\n",
    "    val_split = list(sorted(val_split, key=lambda line: len(remove_diacritics(line))))\n",
    "        \n",
    "    checkpoint_path = 'checkpoints/epoch{epoch:02d}.ckpt'\n",
    "    checkpoint_cb = ModelCheckpoint(checkpoint_path, verbose=0)\n",
    "    \n",
    "    training_generator = DataGenerator(train_split, batch_size)\n",
    "    val_generator = DataGenerator(val_split, batch_size)\n",
    "\n",
    "    model.fit_generator(generator=training_generator,\n",
    "                        validation_data=val_generator,\n",
    "                        epochs=epochs,\n",
    "                        callbacks=[checkpoint_cb])"
   ]
  },
  {
   "cell_type": "code",
   "execution_count": null,
   "metadata": {
    "colab": {},
    "colab_type": "code",
    "id": "oSytmD4TwVaC",
    "scrolled": true
   },
   "outputs": [],
   "source": [
    "start_time = time.time()\n",
    "fit_model(model, 50, 256, train_split, val_split)\n",
    "end_time = time.time()\n",
    "print('--- %s seconds ---' % round(end_time - start_time, 2))"
   ]
  },
  {
   "cell_type": "markdown",
   "metadata": {
    "colab_type": "text",
    "id": "By8aqORavcWz"
   },
   "source": [
    "# 9 - Evaluation"
   ]
  },
  {
   "cell_type": "code",
   "execution_count": null,
   "metadata": {
    "colab": {},
    "colab_type": "code",
    "id": "XhlYxg3KvcWf"
   },
   "outputs": [],
   "source": [
    "def predict(line, model):\n",
    "    X, _ = map_data([line])\n",
    "    predictions = model.predict(X).squeeze()\n",
    "    predictions = predictions[1:]\n",
    "    \n",
    "    output = ''\n",
    "    for char, prediction in zip(remove_diacritics(line), predictions):\n",
    "        output += char\n",
    "        \n",
    "        if char not in ARABIC_LETTERS_LIST:\n",
    "            continue\n",
    "        \n",
    "        if '<' in REV_CLASSES_MAPPING[np.argmax(prediction)]:\n",
    "            continue\n",
    "\n",
    "        output += REV_CLASSES_MAPPING[np.argmax(prediction)]\n",
    "\n",
    "    return output"
   ]
  },
  {
   "cell_type": "code",
   "execution_count": null,
   "metadata": {
    "colab": {},
    "colab_type": "code",
    "id": "95UNs3BVs1jg"
   },
   "outputs": [],
   "source": [
    "print(predict('مرحبا كيف الحال يا صديقي العزيز', model))"
   ]
  },
  {
   "cell_type": "code",
   "execution_count": null,
   "metadata": {
    "colab": {},
    "colab_type": "code",
    "id": "gw8y28kOvcW4",
    "scrolled": true
   },
   "outputs": [],
   "source": [
    "with open(DATASET_PATH + '/test.txt', 'r') as file:\n",
    "    lines = file.readlines()"
   ]
  },
  {
   "cell_type": "code",
   "execution_count": null,
   "metadata": {},
   "outputs": [],
   "source": [
    "results = list()\n",
    "for idx, line in enumerate(lines):\n",
    "    line = remove_diacritics(line.strip())\n",
    "    x = predict(line, model)\n",
    "    results.append(x)"
   ]
  },
  {
   "cell_type": "code",
   "execution_count": null,
   "metadata": {
    "colab": {},
    "colab_type": "code",
    "id": "TqXHki7KvcW_"
   },
   "outputs": [],
   "source": [
    "with open('outputs.txt', 'w') as file:\n",
    "    file.write('\\n'.join(results))"
   ]
  }
 ],
 "metadata": {
  "accelerator": "GPU",
  "colab": {
   "collapsed_sections": [],
   "name": "model.ipynb",
   "provenance": [],
   "toc_visible": true,
   "version": "0.3.2"
  },
  "kernelspec": {
   "display_name": "Python 3",
   "language": "python",
   "name": "python3"
  },
  "language_info": {
   "codemirror_mode": {
    "name": "ipython",
    "version": 3
   },
   "file_extension": ".py",
   "mimetype": "text/x-python",
   "name": "python",
   "nbconvert_exporter": "python",
   "pygments_lexer": "ipython3",
   "version": "3.6.8"
  }
 },
 "nbformat": 4,
 "nbformat_minor": 1
}
